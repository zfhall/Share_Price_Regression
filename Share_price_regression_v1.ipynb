{
  "nbformat": 4,
  "nbformat_minor": 0,
  "metadata": {
    "colab": {
      "name": "Share_price_regression_v1.ipynb",
      "provenance": [],
      "collapsed_sections": [],
      "toc_visible": true
    },
    "kernelspec": {
      "name": "python3",
      "display_name": "Python 3"
    },
    "accelerator": "GPU"
  },
  "cells": [
    {
      "cell_type": "markdown",
      "metadata": {
        "id": "lh4ucnuYfBun",
        "colab_type": "text"
      },
      "source": [
        "#Imports/Dependencies"
      ]
    },
    {
      "cell_type": "code",
      "metadata": {
        "id": "qBjfw_Uk1Xu-",
        "colab_type": "code",
        "outputId": "3c289508-0614-478b-fc88-daec06052204",
        "colab": {
          "base_uri": "https://localhost:8080/",
          "height": 230
        }
      },
      "source": [
        "import numpy as np\n",
        "import pandas as pd\n",
        "import matplotlib.pyplot as plt\n",
        "import datetime\n",
        "\n",
        "\n",
        "#Data import\n",
        "from pandas_datareader import data as pdr\n",
        "import fix_yahoo_finance as yf\n",
        "\n",
        "!pip install yfinance --upgrade --no-cache-dir\n",
        "yf.pdr_override()\n",
        "\n",
        "#For mounting to drive\n",
        "from google.colab import drive\n",
        "\n",
        "\n",
        "#Modeling\n",
        "from sklearn.linear_model import LinearRegression, Ridge, Lasso\n",
        "from sklearn import preprocessing\n",
        "from sklearn.model_selection import train_test_split\n",
        "from sklearn.ensemble import GradientBoostingRegressor\n",
        "\n",
        "#Modeling Metrics\n",
        "from sklearn import metrics\n"
      ],
      "execution_count": 1,
      "outputs": [
        {
          "output_type": "stream",
          "text": [
            "Requirement already up-to-date: yfinance in /usr/local/lib/python3.6/dist-packages (0.1.45)\n",
            "Requirement already satisfied, skipping upgrade: pandas>=0.24 in /usr/local/lib/python3.6/dist-packages (from yfinance) (0.24.2)\n",
            "Requirement already satisfied, skipping upgrade: multitasking>=0.0.7 in /usr/local/lib/python3.6/dist-packages (from yfinance) (0.0.9)\n",
            "Requirement already satisfied, skipping upgrade: numpy>=1.15 in /usr/local/lib/python3.6/dist-packages (from yfinance) (1.16.5)\n",
            "Requirement already satisfied, skipping upgrade: requests>=2.20 in /usr/local/lib/python3.6/dist-packages (from yfinance) (2.21.0)\n",
            "Requirement already satisfied, skipping upgrade: pytz>=2011k in /usr/local/lib/python3.6/dist-packages (from pandas>=0.24->yfinance) (2018.9)\n",
            "Requirement already satisfied, skipping upgrade: python-dateutil>=2.5.0 in /usr/local/lib/python3.6/dist-packages (from pandas>=0.24->yfinance) (2.5.3)\n",
            "Requirement already satisfied, skipping upgrade: certifi>=2017.4.17 in /usr/local/lib/python3.6/dist-packages (from requests>=2.20->yfinance) (2019.6.16)\n",
            "Requirement already satisfied, skipping upgrade: chardet<3.1.0,>=3.0.2 in /usr/local/lib/python3.6/dist-packages (from requests>=2.20->yfinance) (3.0.4)\n",
            "Requirement already satisfied, skipping upgrade: idna<2.9,>=2.5 in /usr/local/lib/python3.6/dist-packages (from requests>=2.20->yfinance) (2.8)\n",
            "Requirement already satisfied, skipping upgrade: urllib3<1.25,>=1.21.1 in /usr/local/lib/python3.6/dist-packages (from requests>=2.20->yfinance) (1.24.3)\n",
            "Requirement already satisfied, skipping upgrade: six>=1.5 in /usr/local/lib/python3.6/dist-packages (from python-dateutil>=2.5.0->pandas>=0.24->yfinance) (1.12.0)\n"
          ],
          "name": "stdout"
        }
      ]
    },
    {
      "cell_type": "code",
      "metadata": {
        "id": "wJJTxUqs1ljn",
        "colab_type": "code",
        "outputId": "34dfc12b-17fd-4717-a632-784d97881670",
        "colab": {
          "base_uri": "https://localhost:8080/",
          "height": 52
        }
      },
      "source": [
        "\n",
        "#Mount folder to save and retrieve outputs\n",
        "drive.mount('/content/drive',force_remount=True) \n",
        "%cd \"/content/drive/My Drive/wk2\" \n",
        "\n",
        "# you must create the same director or change the reference for this to work"
      ],
      "execution_count": 2,
      "outputs": [
        {
          "output_type": "stream",
          "text": [
            "Mounted at /content/drive\n",
            "/content/drive/My Drive/wk2\n"
          ],
          "name": "stdout"
        }
      ]
    },
    {
      "cell_type": "markdown",
      "metadata": {
        "id": "r4NMWaQJf5vi",
        "colab_type": "text"
      },
      "source": [
        "#Import price data"
      ]
    },
    {
      "cell_type": "code",
      "metadata": {
        "id": "XUaMSqfh18g_",
        "colab_type": "code",
        "outputId": "85cd4dda-86a6-434d-d831-f2cc0143bc75",
        "colab": {
          "base_uri": "https://localhost:8080/",
          "height": 34
        }
      },
      "source": [
        "\n",
        "hist_prc = pdr.get_data_yahoo(\"NVDA\", start=\"1999-01-01\").reset_index() #imports share price data for NVIDA since 1999\n",
        "\n",
        "hist_prc.to_csv('output/NVDA.CSV',index=False) #saves as csv to drive\n",
        "\n",
        "\n"
      ],
      "execution_count": 3,
      "outputs": [
        {
          "output_type": "stream",
          "text": [
            "[*********************100%***********************]  1 of 1 downloaded\n"
          ],
          "name": "stdout"
        }
      ]
    },
    {
      "cell_type": "code",
      "metadata": {
        "id": "D6tmGBaY3G1h",
        "colab_type": "code",
        "outputId": "c939dfea-71ee-4be8-d21e-ffe65cc7b8db",
        "colab": {
          "base_uri": "https://localhost:8080/",
          "height": 287
        }
      },
      "source": [
        "hist_prc.describe()"
      ],
      "execution_count": 4,
      "outputs": [
        {
          "output_type": "execute_result",
          "data": {
            "text/html": [
              "<div>\n",
              "<style scoped>\n",
              "    .dataframe tbody tr th:only-of-type {\n",
              "        vertical-align: middle;\n",
              "    }\n",
              "\n",
              "    .dataframe tbody tr th {\n",
              "        vertical-align: top;\n",
              "    }\n",
              "\n",
              "    .dataframe thead th {\n",
              "        text-align: right;\n",
              "    }\n",
              "</style>\n",
              "<table border=\"1\" class=\"dataframe\">\n",
              "  <thead>\n",
              "    <tr style=\"text-align: right;\">\n",
              "      <th></th>\n",
              "      <th>Open</th>\n",
              "      <th>High</th>\n",
              "      <th>Low</th>\n",
              "      <th>Close</th>\n",
              "      <th>Adj Close</th>\n",
              "      <th>Volume</th>\n",
              "    </tr>\n",
              "  </thead>\n",
              "  <tbody>\n",
              "    <tr>\n",
              "      <th>count</th>\n",
              "      <td>5197.000000</td>\n",
              "      <td>5197.000000</td>\n",
              "      <td>5197.000000</td>\n",
              "      <td>5197.000000</td>\n",
              "      <td>5197.000000</td>\n",
              "      <td>5.197000e+03</td>\n",
              "    </tr>\n",
              "    <tr>\n",
              "      <th>mean</th>\n",
              "      <td>37.776541</td>\n",
              "      <td>38.394368</td>\n",
              "      <td>37.107122</td>\n",
              "      <td>37.763362</td>\n",
              "      <td>36.881512</td>\n",
              "      <td>1.604057e+07</td>\n",
              "    </tr>\n",
              "    <tr>\n",
              "      <th>std</th>\n",
              "      <td>60.663243</td>\n",
              "      <td>61.502547</td>\n",
              "      <td>59.691795</td>\n",
              "      <td>60.615441</td>\n",
              "      <td>60.628347</td>\n",
              "      <td>1.162357e+07</td>\n",
              "    </tr>\n",
              "    <tr>\n",
              "      <th>min</th>\n",
              "      <td>1.395833</td>\n",
              "      <td>1.421875</td>\n",
              "      <td>1.333333</td>\n",
              "      <td>1.364583</td>\n",
              "      <td>1.258858</td>\n",
              "      <td>4.920000e+05</td>\n",
              "    </tr>\n",
              "    <tr>\n",
              "      <th>25%</th>\n",
              "      <td>9.197917</td>\n",
              "      <td>9.463333</td>\n",
              "      <td>8.973333</td>\n",
              "      <td>9.250000</td>\n",
              "      <td>8.533325</td>\n",
              "      <td>8.842000e+06</td>\n",
              "    </tr>\n",
              "    <tr>\n",
              "      <th>50%</th>\n",
              "      <td>14.683333</td>\n",
              "      <td>14.950000</td>\n",
              "      <td>14.460000</td>\n",
              "      <td>14.700000</td>\n",
              "      <td>13.616420</td>\n",
              "      <td>1.344540e+07</td>\n",
              "    </tr>\n",
              "    <tr>\n",
              "      <th>75%</th>\n",
              "      <td>22.850000</td>\n",
              "      <td>23.299999</td>\n",
              "      <td>22.469999</td>\n",
              "      <td>22.893333</td>\n",
              "      <td>21.651581</td>\n",
              "      <td>1.977060e+07</td>\n",
              "    </tr>\n",
              "    <tr>\n",
              "      <th>max</th>\n",
              "      <td>289.320007</td>\n",
              "      <td>292.760010</td>\n",
              "      <td>285.579987</td>\n",
              "      <td>289.359985</td>\n",
              "      <td>288.443909</td>\n",
              "      <td>2.307714e+08</td>\n",
              "    </tr>\n",
              "  </tbody>\n",
              "</table>\n",
              "</div>"
            ],
            "text/plain": [
              "              Open         High  ...    Adj Close        Volume\n",
              "count  5197.000000  5197.000000  ...  5197.000000  5.197000e+03\n",
              "mean     37.776541    38.394368  ...    36.881512  1.604057e+07\n",
              "std      60.663243    61.502547  ...    60.628347  1.162357e+07\n",
              "min       1.395833     1.421875  ...     1.258858  4.920000e+05\n",
              "25%       9.197917     9.463333  ...     8.533325  8.842000e+06\n",
              "50%      14.683333    14.950000  ...    13.616420  1.344540e+07\n",
              "75%      22.850000    23.299999  ...    21.651581  1.977060e+07\n",
              "max     289.320007   292.760010  ...   288.443909  2.307714e+08\n",
              "\n",
              "[8 rows x 6 columns]"
            ]
          },
          "metadata": {
            "tags": []
          },
          "execution_count": 4
        }
      ]
    },
    {
      "cell_type": "code",
      "metadata": {
        "id": "g5BfNAJh3FT7",
        "colab_type": "code",
        "outputId": "9c9f7575-e47b-41a1-9161-c23d8e689b3b",
        "colab": {
          "base_uri": "https://localhost:8080/",
          "height": 286
        }
      },
      "source": [
        "\n",
        "hist_prc[\"Adj Close\"].plot()"
      ],
      "execution_count": 5,
      "outputs": [
        {
          "output_type": "execute_result",
          "data": {
            "text/plain": [
              "<matplotlib.axes._subplots.AxesSubplot at 0x7fa6efe6b4a8>"
            ]
          },
          "metadata": {
            "tags": []
          },
          "execution_count": 5
        },
        {
          "output_type": "display_data",
          "data": {
            "image/png": "[encoded data removed]",
            "text/plain": [
              "<Figure size 432x288 with 1 Axes>"
            ]
          },
          "metadata": {
            "tags": []
          }
        }
      ]
    },
    {
      "cell_type": "markdown",
      "metadata": {
        "id": "01FahZkDlhTY",
        "colab_type": "text"
      },
      "source": [
        "# Data Preproccessing\n"
      ]
    },
    {
      "cell_type": "code",
      "metadata": {
        "id": "kiV0hfjU21p8",
        "colab_type": "code",
        "colab": {}
      },
      "source": [
        "hist_prc.set_index(\"Date\", inplace=True)"
      ],
      "execution_count": 0,
      "outputs": []
    },
    {
      "cell_type": "code",
      "metadata": {
        "id": "m9UiR3bBPUeK",
        "colab_type": "code",
        "colab": {}
      },
      "source": [
        "window_size=28 # sets the number od historic days to predict from\n",
        "predicted_days = 7 # sets the number of future days to predict\n",
        "num_samples=len(hist_prc)-window_size\n",
        "\n",
        "# Get indices of access for the data\n",
        "indices=np.arange(num_samples).astype(np.int)[:,None]+np.arange(window_size-predicted_days).astype(np.int)\n",
        "yindices= np.arange(num_samples).astype(np.int)[:,None]+np.arange(window_size-predicted_days,window_size).astype(np.int)\n",
        "dindices=np.arange(1).astype(np.int)[:,None]+np.arange(num_samples,num_samples + window_size-predicted_days).astype(np.int)\n",
        "\n",
        "x = hist_prc['Adj Close'].values[indices]\n",
        "y = hist_prc['Adj Close'].values[yindices]\n",
        "deploy = hist_prc['Adj Close'].values[dindices]\n",
        "\n",
        "\n",
        "\n"
      ],
      "execution_count": 0,
      "outputs": []
    },
    {
      "cell_type": "code",
      "metadata": {
        "id": "9SRjkIH9Vwbc",
        "colab_type": "code",
        "colab": {}
      },
      "source": [
        "split_fraction=0.8 #training/test data split (80/20)\n",
        "ind_split=int(split_fraction*num_samples)"
      ],
      "execution_count": 0,
      "outputs": []
    },
    {
      "cell_type": "code",
      "metadata": {
        "id": "ojfgnGEIV6zl",
        "colab_type": "code",
        "colab": {}
      },
      "source": [
        "x_train = x[:ind_split]\n",
        "y_train = y[:ind_split]\n",
        "x_test = x[ind_split:]\n",
        "y_test = y[ind_split:]"
      ],
      "execution_count": 0,
      "outputs": []
    },
    {
      "cell_type": "markdown",
      "metadata": {
        "id": "1ObTOxtxqevc",
        "colab_type": "text"
      },
      "source": [
        "#Modeling"
      ]
    },
    {
      "cell_type": "code",
      "metadata": {
        "id": "DhLMy_tp0Wzl",
        "colab_type": "code",
        "colab": {}
      },
      "source": [
        "#Help Functions\n",
        "def get_performance (model_pred):\n",
        "  #Function returns standard performance metrics\n",
        "  print('Mean Absolute Error:', metrics.mean_absolute_error(y_test, model_pred).round(4))  \n",
        "  print('Mean Squared Error:', metrics.mean_squared_error(y_test, model_pred).round(4))  \n",
        "  print('Root Mean Squared Error:', np.sqrt(metrics.mean_squared_error(y_test, model_pred)).round(4))\n",
        "  \n",
        "  \n",
        "  \n",
        "def get_plot (model_pred):\n",
        "  plt.scatter(model_pred, y_test, color=\"blue\")\n",
        "  plt.plot(y_test, y_test, color='red', linewidth=2)"
      ],
      "execution_count": 0,
      "outputs": []
    },
    {
      "cell_type": "markdown",
      "metadata": {
        "id": "i_7NV8mS0exY",
        "colab_type": "text"
      },
      "source": [
        "## \"Previous Day\" Baseline"
      ]
    },
    {
      "cell_type": "code",
      "metadata": {
        "id": "Db9--ffMx2Q6",
        "colab_type": "code",
        "colab": {}
      },
      "source": [
        "y_pred_lag=np.roll(y_test,1)"
      ],
      "execution_count": 0,
      "outputs": []
    },
    {
      "cell_type": "code",
      "metadata": {
        "id": "0ml3n0nVx2TW",
        "colab_type": "code",
        "outputId": "651738f7-2567-494a-fa2f-bbe75e42eb9e",
        "colab": {
          "base_uri": "https://localhost:8080/",
          "height": 70
        }
      },
      "source": [
        "get_performance(y_pred_lag)"
      ],
      "execution_count": 12,
      "outputs": [
        {
          "output_type": "stream",
          "text": [
            "Mean Absolute Error: 3.1404\n",
            "Mean Squared Error: 32.2277\n",
            "Root Mean Squared Error: 5.6769\n"
          ],
          "name": "stdout"
        }
      ]
    },
    {
      "cell_type": "code",
      "metadata": {
        "id": "dn2YXwLm1Fvt",
        "colab_type": "code",
        "outputId": "522a9645-331f-4123-afc7-a03add1216be",
        "colab": {
          "base_uri": "https://localhost:8080/",
          "height": 268
        }
      },
      "source": [
        "get_plot(y_pred_lag)"
      ],
      "execution_count": 13,
      "outputs": [
        {
          "output_type": "display_data",
          "data": {
            "image/png": "[encoded data removed]",
            "text/plain": [
              "<Figure size 432x288 with 1 Axes>"
            ]
          },
          "metadata": {
            "tags": []
          }
        }
      ]
    },
    {
      "cell_type": "markdown",
      "metadata": {
        "id": "M6emFoD61Qoa",
        "colab_type": "text"
      },
      "source": [
        "## Linear Regression"
      ]
    },
    {
      "cell_type": "code",
      "metadata": {
        "id": "ZvhqwWmqshdp",
        "colab_type": "code",
        "colab": {}
      },
      "source": [
        "# Train\n",
        "model_lr=LinearRegression() # initialise linear regression model\n",
        "model_lr.fit(x_train, y_train) \n",
        "\n",
        "# Infer\n",
        "\n",
        "y_pred_lr=model_lr.predict(x_test)\n",
        "y_pred_d=model_lr.predict(x_test)"
      ],
      "execution_count": 0,
      "outputs": []
    },
    {
      "cell_type": "code",
      "metadata": {
        "id": "LQyU1G0at3e3",
        "colab_type": "code",
        "outputId": "29732290-ec7b-40a1-a075-4b3e91a4c8cb",
        "colab": {
          "base_uri": "https://localhost:8080/",
          "height": 70
        }
      },
      "source": [
        "get_performance(y_pred_lr)"
      ],
      "execution_count": 15,
      "outputs": [
        {
          "output_type": "stream",
          "text": [
            "Mean Absolute Error: 5.5812\n",
            "Mean Squared Error: 75.2239\n",
            "Root Mean Squared Error: 8.6732\n"
          ],
          "name": "stdout"
        }
      ]
    },
    {
      "cell_type": "code",
      "metadata": {
        "id": "fqSKxWI31bt-",
        "colab_type": "code",
        "outputId": "9502acb9-3958-480d-886c-e506bef803dc",
        "colab": {
          "base_uri": "https://localhost:8080/",
          "height": 268
        }
      },
      "source": [
        "get_plot(y_pred_lr)"
      ],
      "execution_count": 16,
      "outputs": [
        {
          "output_type": "display_data",
          "data": {
            "image/png": "[encoded data removed]",
            "text/plain": [
              "<Figure size 432x288 with 1 Axes>"
            ]
          },
          "metadata": {
            "tags": []
          }
        }
      ]
    },
    {
      "cell_type": "markdown",
      "metadata": {
        "id": "2uOd85gIX9SV",
        "colab_type": "text"
      },
      "source": [
        "## Method #1- Ridge Regression"
      ]
    },
    {
      "cell_type": "code",
      "metadata": {
        "id": "tIZ3_ZtwYBm0",
        "colab_type": "code",
        "outputId": "67dc6c79-de10-447b-e4f5-7388aab315c0",
        "colab": {
          "base_uri": "https://localhost:8080/",
          "height": 34
        }
      },
      "source": [
        "#Train\n",
        "model_ridge = Ridge()\n",
        "model_ridge.fit(x_train, y_train)\n",
        "\n",
        "#Infer\n",
        "y_pred_train_ridge = model_ridge.predict(x_train)\n",
        "y_pred_ridge=model_ridge.predict(x_test)\n",
        "y_pred_ridge_d=model_ridge.predict(deploy)\n",
        "deploy.shape"
      ],
      "execution_count": 17,
      "outputs": [
        {
          "output_type": "execute_result",
          "data": {
            "text/plain": [
              "(1, 21)"
            ]
          },
          "metadata": {
            "tags": []
          },
          "execution_count": 17
        }
      ]
    },
    {
      "cell_type": "markdown",
      "metadata": {
        "id": "Il24ufZVHwci",
        "colab_type": "text"
      },
      "source": [
        "## Plot Predicted Days Against Historic Days"
      ]
    },
    {
      "cell_type": "code",
      "metadata": {
        "id": "sz-G9LOfanN8",
        "colab_type": "code",
        "outputId": "f1a04e78-95f0-44aa-da11-a11fcd76bfe8",
        "colab": {
          "base_uri": "https://localhost:8080/",
          "height": 487
        }
      },
      "source": [
        "# Create flattened array of future dates to predict for plotting\n",
        "def ftrdate(days_from_today):\n",
        "  ftrday = []\n",
        "  for x in range(days_from_today):\n",
        "    ftrday.append(datetime.date.today() + datetime.timedelta(x + 1))\n",
        "  return np.ndarray.flatten(np.array(ftrday))\n",
        "\n",
        "# Plot predicted days \n",
        "df_ridge = hist_prc.copy()\n",
        "df_ridge.drop(['Open', 'High', 'Low', 'Close', 'Volume'], axis=1, inplace=True)\n",
        "df_ridge = df_ridge.iloc[num_samples-window_size:] \n",
        "\n",
        "indx=pd.Index(ftrdate(predicted_days))\n",
        "y_pred_ridge_d = np.ndarray.flatten(y_pred_ridge_d)\n",
        "df_ridge_pred = pd.DataFrame(data=y_pred_ridge_d,index=indx,columns=['Adj Close Pred']) \n",
        "\n",
        "ax=df_ridge.plot(label='NVDA', figsize=(16,8), title='Adjusted Closing Price', grid=True)\n",
        "df_ridge_pred.plot(label='NVDA', figsize=(16,8), title='Adjusted Closing Price', grid=True, ax=ax)\n",
        "  "
      ],
      "execution_count": 24,
      "outputs": [
        {
          "output_type": "execute_result",
          "data": {
            "text/plain": [
              "<matplotlib.axes._subplots.AxesSubplot at 0x7fa6dde606d8>"
            ]
          },
          "metadata": {
            "tags": []
          },
          "execution_count": 24
        },
        {
          "output_type": "display_data",
          "data": {
            "image/png": "[encoded data removed]",
            "text/plain": [
              "<Figure size 1152x576 with 1 Axes>"
            ]
          },
          "metadata": {
            "tags": []
          }
        }
      ]
    },
    {
      "cell_type": "code",
      "metadata": {
        "id": "V7AbF6rQ5rT_",
        "colab_type": "code",
        "outputId": "45bbb634-372b-4828-8dc9-951ef5285367",
        "colab": {
          "base_uri": "https://localhost:8080/",
          "height": 70
        }
      },
      "source": [
        "get_performance(y_pred_ridge)"
      ],
      "execution_count": 19,
      "outputs": [
        {
          "output_type": "stream",
          "text": [
            "Mean Absolute Error: 5.5815\n",
            "Mean Squared Error: 75.2271\n",
            "Root Mean Squared Error: 8.6734\n"
          ],
          "name": "stdout"
        }
      ]
    },
    {
      "cell_type": "code",
      "metadata": {
        "id": "SZi1qbIR5rWQ",
        "colab_type": "code",
        "outputId": "016dcc0f-0609-4f81-baaf-afa81521d570",
        "colab": {
          "base_uri": "https://localhost:8080/",
          "height": 268
        }
      },
      "source": [
        "get_plot(y_pred_ridge)"
      ],
      "execution_count": 20,
      "outputs": [
        {
          "output_type": "display_data",
          "data": {
            "image/png": "[encoded data removed]",
            "text/plain": [
              "<Figure size 432x288 with 1 Axes>"
            ]
          },
          "metadata": {
            "tags": []
          }
        }
      ]
    },
    {
      "cell_type": "code",
      "metadata": {
        "id": "gAt2ZpwmOZqM",
        "colab_type": "code",
        "colab": {}
      },
      "source": [
        ""
      ],
      "execution_count": 0,
      "outputs": []
    },
    {
      "cell_type": "code",
      "metadata": {
        "id": "lKRbXOCQGfcu",
        "colab_type": "code",
        "colab": {}
      },
      "source": [
        "\n"
      ],
      "execution_count": 0,
      "outputs": []
    },
    {
      "cell_type": "markdown",
      "metadata": {
        "id": "RH1URHb4zRxf",
        "colab_type": "text"
      },
      "source": [
        "## Lasso"
      ]
    },
    {
      "cell_type": "code",
      "metadata": {
        "id": "cgvfwL0hzWd9",
        "colab_type": "code",
        "colab": {}
      },
      "source": [
        "# Model #2 - Lasso\n",
        "model_la = Lasso(alpha=0.1)\n",
        "model_la.fit(x_train, y_train)\n",
        "\n",
        "# Infer\n",
        "y_pred_la = model_la.predict(x_test)"
      ],
      "execution_count": 0,
      "outputs": []
    },
    {
      "cell_type": "code",
      "metadata": {
        "id": "hiU5072vIAp8",
        "colab_type": "code",
        "outputId": "28bfee40-9126-495c-f741-a0a4d421f57f",
        "colab": {
          "base_uri": "https://localhost:8080/",
          "height": 70
        }
      },
      "source": [
        "get_performance(y_pred_la)"
      ],
      "execution_count": 22,
      "outputs": [
        {
          "output_type": "stream",
          "text": [
            "Mean Absolute Error: 5.6711\n",
            "Mean Squared Error: 76.9793\n",
            "Root Mean Squared Error: 8.7738\n"
          ],
          "name": "stdout"
        }
      ]
    },
    {
      "cell_type": "code",
      "metadata": {
        "id": "1xXWb77S6hlA",
        "colab_type": "code",
        "outputId": "8987d6d3-1e26-48c3-d275-3eb2f3bc1453",
        "colab": {
          "base_uri": "https://localhost:8080/",
          "height": 268
        }
      },
      "source": [
        "get_plot(y_pred_la)"
      ],
      "execution_count": 23,
      "outputs": [
        {
          "output_type": "display_data",
          "data": {
            "image/png": "[encoded data removed]",
            "text/plain": [
              "<Figure size 432x288 with 1 Axes>"
            ]
          },
          "metadata": {
            "tags": []
          }
        }
      ]
    }
  ]
}